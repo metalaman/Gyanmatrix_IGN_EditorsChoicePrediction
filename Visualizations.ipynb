{
 "cells": [
  {
   "cell_type": "code",
   "execution_count": 1,
   "metadata": {
    "collapsed": false
   },
   "outputs": [],
   "source": [
    "import pandas as pd\n",
    "import numpy as np\n",
    "import matplotlib.pyplot as plt\n",
    "from mpl_toolkits.mplot3d import Axes3D\n",
    "%matplotlib inline"
   ]
  },
  {
   "cell_type": "code",
   "execution_count": 2,
   "metadata": {
    "collapsed": true
   },
   "outputs": [],
   "source": [
    "df = pd.read_csv('ign.csv')"
   ]
  },
  {
   "cell_type": "markdown",
   "metadata": {},
   "source": [
    "Taking only the relevant columns(socre_phrase, title, platform, score, genre, editors_choice, release_year, release_month, release_day )"
   ]
  },
  {
   "cell_type": "code",
   "execution_count": 3,
   "metadata": {
    "collapsed": false
   },
   "outputs": [],
   "source": [
    "df = df[[1,2,4,5,6,7,8,9,10]]"
   ]
  },
  {
   "cell_type": "markdown",
   "metadata": {},
   "source": [
    "Let's see how the gaming industry has progessed with the number of titles released from 1970 to 2016. \n",
    "Strangely, A sharp fall since 2009! Quite opposite to what I assumed in the beginning. "
   ]
  },
  {
   "cell_type": "code",
   "execution_count": 4,
   "metadata": {
    "collapsed": false
   },
   "outputs": [
    {
     "data": {
      "text/plain": [
       "[<matplotlib.lines.Line2D at 0x8db86d8>]"
      ]
     },
     "execution_count": 4,
     "metadata": {},
     "output_type": "execute_result"
    },
    {
     "data": {
      "image/png": "[encoded data removed]",
      "text/plain": [
       "<matplotlib.figure.Figure at 0x8ce4cc0>"
      ]
     },
     "metadata": {},
     "output_type": "display_data"
    }
   ],
   "source": [
    "d = dict(df.groupby(['release_year']).size())\n",
    "plt.plot(d.keys(),d.values())"
   ]
  },
  {
   "cell_type": "markdown",
   "metadata": {},
   "source": [
    "Converting string 'Y' to 1 and 'N' to 0. Since our target variable is editors_choice, Let's just focus on how it depends on other attributes."
   ]
  },
  {
   "cell_type": "code",
   "execution_count": 5,
   "metadata": {
    "collapsed": true
   },
   "outputs": [],
   "source": [
    "df.editors_choice = df['editors_choice'].apply(lambda x: 1 if x=='Y' else 0)"
   ]
  },
  {
   "cell_type": "markdown",
   "metadata": {},
   "source": [
    "Almost 1:5 ratio of the binary target classes. This is averagely skewed. "
   ]
  },
  {
   "cell_type": "code",
   "execution_count": 6,
   "metadata": {
    "collapsed": false
   },
   "outputs": [
    {
     "name": "stdout",
     "output_type": "stream",
     "text": [
      "3517\n",
      "15108\n"
     ]
    }
   ],
   "source": [
    "print df[df.editors_choice==1].shape[0]\n",
    "print df[df.editors_choice==0].shape[0]"
   ]
  },
  {
   "cell_type": "markdown",
   "metadata": {},
   "source": [
    "Data is heavily skewed, with some platforms having no editor's chosen game."
   ]
  },
  {
   "cell_type": "code",
   "execution_count": 7,
   "metadata": {
    "collapsed": false
   },
   "outputs": [
    {
     "data": {
      "text/plain": [
       "platform\n",
       "PC                      679\n",
       "Xbox 360                366\n",
       "PlayStation 3           342\n",
       "PlayStation 2           314\n",
       "Wireless                268\n",
       "Xbox                    212\n",
       "Wii                     179\n",
       "iPhone                  152\n",
       "PlayStation             124\n",
       "GameCube                110\n",
       "Nintendo DS             100\n",
       "Game Boy Advance         99\n",
       "PlayStation Portable     77\n",
       "PlayStation 4            62\n",
       "Dreamcast                59\n",
       "Nintendo 3DS             43\n",
       "Xbox One                 43\n",
       "Nintendo 64              42\n",
       "Macintosh                40\n",
       "PlayStation Vita         35\n",
       "Game Boy Color           32\n",
       "iPad                     30\n",
       "Wii U                    24\n",
       "Nintendo DSi             23\n",
       "Super NES                 9\n",
       "NES                       9\n",
       "N-Gage                    8\n",
       "Genesis                   5\n",
       "NeoGeo Pocket Color       4\n",
       "Android                   4\n",
       "Linux                     3\n",
       "Master System             3\n",
       "iPod                      3\n",
       "Saturn                    2\n",
       "Game Boy                  2\n",
       "TurboGrafx-16             2\n",
       "Nintendo 64DD             1\n",
       "Arcade                    1\n",
       "WonderSwan Color          1\n",
       "Pocket PC                 1\n",
       "Windows Phone             1\n",
       "TurboGrafx-CD             1\n",
       "NeoGeo                    1\n",
       "SteamOS                   1\n",
       "Lynx                      0\n",
       "Web Games                 0\n",
       "Sega 32X                  0\n",
       "Game.Com                  0\n",
       "Windows Surface           0\n",
       "WonderSwan                0\n",
       "Vectrex                   0\n",
       "Dreamcast VMU             0\n",
       "New Nintendo 3DS          0\n",
       "DVD / HD Video Game       0\n",
       "Commodore 64/128          0\n",
       "Atari 5200                0\n",
       "Atari 2600                0\n",
       "Sega CD                   0\n",
       "Ouya                      0\n",
       "Name: editors_choice, dtype: int64"
      ]
     },
     "execution_count": 7,
     "metadata": {},
     "output_type": "execute_result"
    }
   ],
   "source": [
    "df.groupby(['platform'])['editors_choice'].aggregate(np.sum).sort_values()[::-1]"
   ]
  },
  {
   "cell_type": "markdown",
   "metadata": {},
   "source": [
    "A game with score of 8 and above has a high chance of being recommended by the editor, since the mean is a little less than 9  and the standard deviation being 0.41.\n",
    "But, we also have a few games (less than 1% of the games not recommended by the editor) getting high score but they are not recommended. \n",
    "Therefore, we can safely deduce that a game with high score is likely to be editor's recommendation."
   ]
  },
  {
   "cell_type": "code",
   "execution_count": 8,
   "metadata": {
    "collapsed": false
   },
   "outputs": [
    {
     "name": "stdout",
     "output_type": "stream",
     "text": [
      "score    8.868581\n",
      "dtype: float64\n",
      "score    8.0\n",
      "dtype: float64\n",
      "score    0.416654\n",
      "dtype: float64\n",
      "score    6.503938\n",
      "dtype: float64\n",
      "score    10.0\n",
      "dtype: float64\n",
      "0.820757214721\n"
     ]
    },
    {
     "name": "stderr",
     "output_type": "stream",
     "text": [
      "C:\\Users\\Aman\\Anaconda2\\lib\\site-packages\\ipykernel\\__main__.py:6: UserWarning: Boolean Series key will be reindexed to match DataFrame index.\n"
     ]
    }
   ],
   "source": [
    "print df[df.editors_choice==1][['score']].mean() \n",
    "print df[df.editors_choice==1][['score']].min()\n",
    "print df[df.editors_choice==1][['score']].std()\n",
    "print df[df.editors_choice==0][['score']].mean() \n",
    "print df[df.editors_choice==0][['score']].max()\n",
    "print (float(df[df.editors_choice==0][df.score >= 9.0].shape[0])/df[df.editors_choice==0].shape[0])*100"
   ]
  },
  {
   "cell_type": "markdown",
   "metadata": {},
   "source": [
    "Let's see if the editors are genre biased or not.\n",
    "Top 15 genres from both the editor's recommended games and otherwise show that indeed the editors have an equal interest in all the genres, thus, genre wouldn't be helpful to us when we predict editor's choice.\n",
    "Also, since genre is a sparse attribure, we can simply drop it(Doesn't contribute to editor's choice)."
   ]
  },
  {
   "cell_type": "code",
   "execution_count": 9,
   "metadata": {
    "collapsed": false
   },
   "outputs": [
    {
     "name": "stdout",
     "output_type": "stream",
     "text": [
      "Action               483\n",
      "Sports               426\n",
      "Shooter              363\n",
      "RPG                  295\n",
      "Racing               231\n",
      "Strategy             221\n",
      "Action, Adventure    204\n",
      "Platformer           199\n",
      "Adventure            183\n",
      "Puzzle               146\n",
      "Fighting             114\n",
      "Action, RPG           98\n",
      "Simulation            83\n",
      "Music                 74\n",
      "Puzzle, Action        42\n",
      "Name: genre, dtype: int64\n",
      "Action               3314\n",
      "Sports               1490\n",
      "Shooter              1247\n",
      "Racing                997\n",
      "Adventure             992\n",
      "Strategy              850\n",
      "RPG                   685\n",
      "Puzzle                630\n",
      "Platformer            624\n",
      "Action, Adventure     561\n",
      "Simulation            484\n",
      "Fighting              433\n",
      "Music                 297\n",
      "Action, RPG           232\n",
      "Racing, Action        182\n",
      "Name: genre, dtype: int64\n"
     ]
    }
   ],
   "source": [
    "print df[df.editors_choice==1].genre.value_counts()[:15]\n",
    "print df[df.editors_choice==0].genre.value_counts()[:15]"
   ]
  },
  {
   "cell_type": "markdown",
   "metadata": {},
   "source": [
    "The following figure shows the relation between number of editor recommended games and the platform; PC has the obvious lead. Following PC we've PS2, PS3 and XBox360, these values suggest that a game for a particular platform could have some information about whether it'll be a recommended game or not."
   ]
  },
  {
   "cell_type": "code",
   "execution_count": 10,
   "metadata": {
    "collapsed": false
   },
   "outputs": [],
   "source": [
    "%matplotlib qt\n",
    "#Change the above to %matplotlib inline to see the plot on this notebook.\n",
    "d = dict(df.groupby(['platform'])['editors_choice'].aggregate(np.sum).sort_values())\n",
    "xaxis = np.arange(len(d.keys()))\n",
    "plt.bar(xaxis,d.values())\n",
    "plt.xticks(xaxis, d.keys(),rotation=90)\n",
    "plt.show()"
   ]
  },
  {
   "cell_type": "markdown",
   "metadata": {},
   "source": [
    "Following plot shows how many editor recommended games were published in the year from 1970 to 2016. A look at period from 2009 to 2014 tells that the game industry made many great games, probably due to the surge in console gaming with xbox360 (released in 2010) and ps3 (in 2012). "
   ]
  },
  {
   "cell_type": "code",
   "execution_count": 11,
   "metadata": {
    "collapsed": false
   },
   "outputs": [
    {
     "data": {
      "text/plain": [
       "[<matplotlib.lines.Line2D at 0xa0ae828>]"
      ]
     },
     "execution_count": 11,
     "metadata": {},
     "output_type": "execute_result"
    },
    {
     "data": {
      "image/png": "[encoded data removed]",
      "text/plain": [
       "<matplotlib.figure.Figure at 0x9575198>"
      ]
     },
     "metadata": {},
     "output_type": "display_data"
    }
   ],
   "source": [
    "%matplotlib inline\n",
    "d = dict(df.groupby(['release_year'])['editors_choice'].aggregate(np.sum))\n",
    "plt.plot(d.keys(),d.values())"
   ]
  },
  {
   "cell_type": "markdown",
   "metadata": {},
   "source": [
    "Lastly, A strange finding from release_month versus number of editor recommended games, tells that November happens to be a good time to release great games.\n",
    "My intuition says they are probably targetting the holiday season sales, With Christmas around, every gamer will buy a $45 (originally priced $60) AAA game, specially if it's editor's recommendation.\n",
    "A lot of pre-release advertisements, along with great scores by the IGN editors"
   ]
  },
  {
   "cell_type": "code",
   "execution_count": 12,
   "metadata": {
    "collapsed": false
   },
   "outputs": [
    {
     "data": {
      "image/png": "[encoded data removed]",
      "text/plain": [
       "<matplotlib.figure.Figure at 0x9fd3550>"
      ]
     },
     "metadata": {},
     "output_type": "display_data"
    }
   ],
   "source": [
    "d = dict(df.groupby(['release_month'])['editors_choice'].aggregate(np.sum))\n",
    "xaxis = d.keys()\n",
    "plt.bar(xaxis, d.values())\n",
    "plt.xticks(xaxis,['Jan','Feb','March','April','May','June','July','Aug','Sep','Oct','Nov','Dec'])\n",
    "plt.show()"
   ]
  }
 ],
 "metadata": {
  "anaconda-cloud": {},
  "kernelspec": {
   "display_name": "Python [default]",
   "language": "python",
   "name": "python2"
  },
  "language_info": {
   "codemirror_mode": {
    "name": "ipython",
    "version": 2
   },
   "file_extension": ".py",
   "mimetype": "text/x-python",
   "name": "python",
   "nbconvert_exporter": "python",
   "pygments_lexer": "ipython2",
   "version": "2.7.12"
  }
 },
 "nbformat": 4,
 "nbformat_minor": 0
}
